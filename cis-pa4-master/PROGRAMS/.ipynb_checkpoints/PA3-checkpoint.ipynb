{
 "cells": [
  {
   "cell_type": "code",
   "execution_count": 1,
   "metadata": {
    "collapsed": true
   },
   "outputs": [],
   "source": [
    "import numpy as np\n",
    "import sys\n",
    "sys.path.append(\"..\")\n",
    "from math_pkg import *\n",
    "\n",
    "def ReadData(filename):  \n",
    "    with open(filename, mode = 'r') as csv_file:\n",
    "        csv_reader = csv.reader(csv_file)\n",
    "        datalist = list(csv_reader)\n",
    "    NS = int(datalist[0][0])\n",
    "    Nsamps = int(datalist[0][1])\n",
    "    datalist.pop(0)\n",
    "    data = np.array([[float(j) for j in i] for i in datalist])\n",
    "    return NS,Nsamps,data\n",
    "\n",
    "test_char = 'A'\n",
    "data_type = 'Debug'\n",
    "\n",
    "def ReadData1(filename):\n",
    "    datalist = [] \n",
    "    with open(filename, mode = 'r') as csv_file:\n",
    "        for line in csv_file:\n",
    "            line = line.split()\n",
    "            datalist.append(line)\n",
    "    N = int(datalist[0][0])\n",
    "    datalist.pop(0)\n",
    "    data = np.array([[float(j) for j in i] for i in datalist])\n",
    "    a = data[0:N]\n",
    "    tip = data[N]\n",
    "    return N,a,tip.reshape(3,1)\n",
    "\n",
    "def ReadMesh(filename):\n",
    "    datalist = [] \n",
    "    with open(filename, mode = 'r') as csv_file:\n",
    "        for line in csv_file:\n",
    "            line = line.split()\n",
    "            datalist.append(line)\n",
    "    Nv = int(datalist[0][0])\n",
    "    Nt = int(datalist[Nv+1][0])\n",
    "    datalist.pop(0)\n",
    "    datalist.pop(Nv)\n",
    "    v = np.array([[float(j) for j in i] for i in datalist[0:Nv]])\n",
    "    tri = np.array([[int(j) for j in i] for i in datalist[Nv:]])\n",
    "    return Nv,v,Nt,tri\n",
    "\n",
    "NA, a, tipA = ReadData1('../PA 345 - Student Data/Problem3-BodyA.txt')\n",
    "NB, b, tipB = ReadData1('../PA 345 - Student Data/Problem3-BodyB.txt')\n",
    "Nv, v, Nt, tri = ReadMesh('../PA 345 - Student Data/Problem3MeshFile.sur')\n",
    "NS, Nsamps, data = ReadData('../PA 345 - Student Data/PA3-'+ test_char + '-'+ data_type +'-SampleReadingsTest.txt')\n",
    "ND = NS - NA - NB\n",
    "FA = np.zeros((4,4,Nsamps))\n",
    "FB = np.zeros((4,4,Nsamps))\n",
    "d = np.zeros((4,1,Nsamps))\n",
    "t = 0\n",
    "for i in range (0,len(data),NS):\n",
    "    FA[:,:,t] = point_cloud_registration(a, data[i:i+NA])\n",
    "    FB[:,:,t] = point_cloud_registration(b, data[i+NA:i+NA+NB])\n",
    "    d[:,:,t] = np.matmul(np.matmul(np.linalg.inv(FB[:,:,t]),FA[:,:,t]),np.concatenate((tipA,np.ones([1,1])), axis = 0 ))\n",
    "    t += 1\n",
    "# Freg = I\n",
    "s_1 = d\n",
    "s = np.transpose(s_1[0:3,:,:], (2,0,1))"
   ]
  },
  {
   "cell_type": "code",
   "execution_count": 3,
   "metadata": {
    "collapsed": true
   },
   "outputs": [],
   "source": [
    "def BoundingSphere(v,tri):\n",
    "    N = v.shape[0]\n",
    "    M = tri.shape[0]\n",
    "    qq = np.zeros((M,3))\n",
    "    rr = np.zeros((M,1))\n",
    "    for i in range(M):\n",
    "        p = v[tri[i][0]]\n",
    "        q = v[tri[i][1]]\n",
    "        r = v[tri[i][2]]\n",
    "        pq = np.linalg.norm(p - q)\n",
    "        pr = np.linalg.norm(p - r)\n",
    "        qr = np.linalg.norm(q - r)\n",
    "        ind = np.argmax([pq,pr,qr])\n",
    "        if ind == 0:\n",
    "            a = p\n",
    "            b = q\n",
    "            c = r\n",
    "        elif ind == 1:\n",
    "            a = p\n",
    "            b = r\n",
    "            c = q\n",
    "        else:\n",
    "            a = q\n",
    "            b = r\n",
    "            c = p\n",
    "        f = (a+b)/2\n",
    "        u = a - f\n",
    "        vv = c - f\n",
    "        d = np.cross(np.cross(u,vv),u)\n",
    "        gamma = (np.matmul(vv,vv) - np.matmul(u,u)) / np.matmul((2*d),(vv - u))\n",
    "        if gamma <= 0:\n",
    "            lamb = 0\n",
    "        else:\n",
    "            lamb = gamma\n",
    "        qq[i] = f + lamb * d\n",
    "        rr[i] = np.linalg.norm(qq[i] - a) \n",
    "    return qq,rr\n",
    "q , r = BoundingSphere(v,tri)"
   ]
  },
  {
   "cell_type": "code",
   "execution_count": 4,
   "metadata": {
    "collapsed": true
   },
   "outputs": [],
   "source": [
    "def ProjectOnSegment(c,p,q):\n",
    "    lamb = np.matmul((c-p).T,(q-p))/np.matmul((q-p).T,(q-p))\n",
    "    lamb_s = max(0,min(lamb,1))\n",
    "    c_s = p + lamb_s * (q - p)\n",
    "    return c_s"
   ]
  },
  {
   "cell_type": "code",
   "execution_count": 5,
   "metadata": {
    "collapsed": true
   },
   "outputs": [],
   "source": [
    "def FindClosestPoint(a,tri):\n",
    "    \n",
    "    p = v[tri[0]].reshape((3,1))\n",
    "    q = v[tri[1]].reshape((3,1))\n",
    "    r = v[tri[2]].reshape((3,1))\n",
    "    A = np.array([q-p, r-p])\n",
    "    A = np.concatenate((q-p,r-p), axis = 1)\n",
    "    b = a - p\n",
    "    x = np.matmul(np.matmul(np.linalg.inv(np.matmul(A.T,A)),A.T),b)\n",
    "    c_temp = np.matmul(A,x) + p    \n",
    "    if x[0] >= 0 and x[1] >= 0 and np.sum(x) <= 1:\n",
    "        c = c_temp\n",
    "    elif x[0] < 0:\n",
    "        c = ProjectOnSegment(c_temp,r,p)\n",
    "    elif x[1] < 0:\n",
    "        c = ProjectOnSegment(c_temp,p,q)\n",
    "    else:\n",
    "        c = ProjectOnSegment(c_temp,q,r)\n",
    "    return c"
   ]
  },
  {
   "cell_type": "code",
   "execution_count": 28,
   "metadata": {},
   "outputs": [
    {
     "name": "stdout",
     "output_type": "stream",
     "text": [
      "[[0.00227091]\n",
      " [0.00147946]\n",
      " [0.0010934 ]\n",
      " [0.00425671]\n",
      " [0.00160458]\n",
      " [0.00142419]\n",
      " [0.00026868]\n",
      " [0.00104611]\n",
      " [0.00534834]\n",
      " [0.00077665]\n",
      " [0.00269997]\n",
      " [0.00115208]\n",
      " [0.00314078]\n",
      " [0.00094251]\n",
      " [0.0013217 ]]\n"
     ]
    }
   ],
   "source": [
    "c = np.zeros((Nsamps,3,1))\n",
    "for i in range (Nsamps):\n",
    "    pt = s[i]\n",
    "#     bound = np.linalg.norm(q[i].reshape((3,1)) - pt)\n",
    "#     c_tmp = q[i]\n",
    "    bound = 999\n",
    "    for j in range (Nt):\n",
    "        if (np.linalg.norm(q[j].reshape((3,1)) - pt) - r[j]) <= bound:\n",
    "            h = FindClosestPoint(pt,tri[j])\n",
    "            dist = np.linalg.norm(h - pt)\n",
    "            if dist < bound:\n",
    "                c_tmp = h\n",
    "                bound = dist\n",
    "    c[i] = c_tmp\n",
    "d_cs = np.linalg.norm(c - s,axis = 1)\n",
    "print(d_cs)"
   ]
  },
  {
   "cell_type": "code",
   "execution_count": 35,
   "metadata": {},
   "outputs": [
    {
     "data": {
      "text/plain": [
       "array([-20.110569, -16.44264 , -48.20013 ])"
      ]
     },
     "execution_count": 35,
     "metadata": {},
     "output_type": "execute_result"
    }
   ],
   "source": [
    "v[tri[0]][0]"
   ]
  },
  {
   "cell_type": "code",
   "execution_count": 36,
   "metadata": {},
   "outputs": [
    {
     "data": {
      "text/plain": [
       "array([-20.110569, -16.44264 , -48.20013 ])"
      ]
     },
     "execution_count": 36,
     "metadata": {},
     "output_type": "execute_result"
    }
   ],
   "source": [
    "v[tri[0][0]]"
   ]
  },
  {
   "cell_type": "code",
   "execution_count": 37,
   "metadata": {},
   "outputs": [
    {
     "data": {
      "text/plain": [
       "array([[27.00028545],\n",
       "       [ 3.13328658],\n",
       "       [27.28097419]])"
      ]
     },
     "execution_count": 37,
     "metadata": {},
     "output_type": "execute_result"
    }
   ],
   "source": [
    "c[1]"
   ]
  },
  {
   "cell_type": "code",
   "execution_count": 27,
   "metadata": {},
   "outputs": [],
   "source": [
    "import numpy as np\n",
    "import sys\n",
    "sys.path.append(\"..\")\n",
    "from math_pkg import *\n",
    "\n",
    "char = 'ABCDEF'\n",
    "\n",
    "def ReadData(filename):  \n",
    "    datalist = [] \n",
    "    with open(filename, mode = 'r') as csv_file:\n",
    "        for line in csv_file:\n",
    "            line = line.split()\n",
    "            datalist.append(line)\n",
    "    datalist.pop(0)\n",
    "    data = np.array([[float(j) for j in i] for i in datalist])\n",
    "    return data\n",
    "\n",
    "for test_char in char:\n",
    "    data = ReadData('../OUTPUT/pa3-'+ test_char +'-Output.txt')\n",
    "    data_debug = ReadData('../PA 345 - Student Data/PA3-'+ test_char +'-Debug-Output.txt') \n",
    "    error = data_debug[:,6] - data[:,6]\n",
    "    np.savetxt('../errors_analysis/error'+ test_char +'.txt', error, fmt='%.3f');\n"
   ]
  }
 ],
 "metadata": {
  "kernelspec": {
   "display_name": "Python 3",
   "language": "python",
   "name": "python3"
  },
  "language_info": {
   "codemirror_mode": {
    "name": "ipython",
    "version": 3
   },
   "file_extension": ".py",
   "mimetype": "text/x-python",
   "name": "python",
   "nbconvert_exporter": "python",
   "pygments_lexer": "ipython3",
   "version": "3.6.2"
  }
 },
 "nbformat": 4,
 "nbformat_minor": 2
}

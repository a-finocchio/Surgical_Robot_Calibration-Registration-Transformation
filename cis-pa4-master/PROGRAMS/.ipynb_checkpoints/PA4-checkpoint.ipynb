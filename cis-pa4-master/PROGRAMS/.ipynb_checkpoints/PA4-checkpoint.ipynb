{
 "cells": [
  {
   "cell_type": "code",
   "execution_count": 1,
   "metadata": {},
   "outputs": [
    {
     "name": "stdout",
     "output_type": "stream",
     "text": [
      "pa4-A-Output.txt generated!\n",
      "Evaulated all data!\n"
     ]
    }
   ],
   "source": [
    "import numpy as np\n",
    "import sys\n",
    "from ReadInput import *\n",
    "from ConstructBoundingSphere import *\n",
    "from FindClosestPoint import *\n",
    "from BoundingBoxTreeNode import *\n",
    "sys.path.append(\"..\")\n",
    "\n",
    "\n",
    "NA, a, tipA = ReadData1('../PA 345 - Student Data/Problem4-BodyA.txt')\n",
    "NB, b, tipB = ReadData1('../PA 345 - Student Data/Problem4-BodyB.txt')\n",
    "Nv, v, Nt, tri = ReadMesh('../PA 345 - Student Data/Problem4MeshFile.sur')\n",
    "q, r, sphere = ConstructBoundingSphere(v, tri)\n",
    "octree = BoundingBoxTreeNode(sphere, Nt)\n"
   ]
  },
  {
   "cell_type": "code",
   "execution_count": 4,
   "metadata": {},
   "outputs": [
    {
     "data": {
      "text/plain": [
       "<Sphere.Sphere at 0xb15a6dfd0>"
      ]
     },
     "execution_count": 4,
     "metadata": {},
     "output_type": "execute_result"
    }
   ],
   "source": [
    "sphere[0]"
   ]
  },
  {
   "cell_type": "code",
   "execution_count": 7,
   "metadata": {},
   "outputs": [
    {
     "data": {
      "text/plain": [
       "(1, 10)"
      ]
     },
     "execution_count": 7,
     "metadata": {},
     "output_type": "execute_result"
    }
   ],
   "source": [
    "a = np.zeros((1, 10))\n",
    "a.shape"
   ]
  },
  {
   "cell_type": "code",
   "execution_count": 11,
   "metadata": {},
   "outputs": [
    {
     "data": {
      "text/plain": [
       "0.0"
      ]
     },
     "execution_count": 11,
     "metadata": {},
     "output_type": "execute_result"
    }
   ],
   "source": [
    "a[0,2]"
   ]
  },
  {
   "cell_type": "code",
   "execution_count": null,
   "metadata": {},
   "outputs": [],
   "source": [
    "char = 'ABCDEFGHJ'\n",
    "char = 'A'\n",
    "for test_char in char:\n",
    "    if test_char in 'ABCDEF':\n",
    "        data_type = 'Debug'\n",
    "    else:\n",
    "        data_type = 'Unknown'\n",
    "\n",
    "    NS, Nsamps, data = ReadData('../PA 345 - Student Data/PA4-' +\n",
    "                                test_char + '-' + data_type + '-SampleReadingsTest.txt')\n",
    "    ND = NS - NA - NB\n",
    "    FA = np.zeros((4, 4, Nsamps))\n",
    "    FB = np.zeros((4, 4, Nsamps))\n",
    "    d = np.zeros((4, 1, Nsamps))\n",
    "    t = 0\n",
    "    for i in range(0, len(data), NS):\n",
    "        FA[:, :, t] = point_cloud_registration(a, data[i:i + NA])\n",
    "        FB[:, :, t] = point_cloud_registration(b, data[i + NA:i + NA + NB])\n",
    "        d[:, :, t] = np.matmul(np.matmul(np.linalg.inv(\n",
    "            FB[:, :, t]), FA[:, :, t]), np.concatenate((tipA, np.ones([1, 1])), axis=0))\n",
    "        t += 1\n",
    "    # Freg = I\n",
    "    s_1 = d\n",
    "    s = np.transpose(s_1[0:3, :, :], (2, 0, 1))\n",
    "    c = np.zeros((Nsamps, 3, 1))\n",
    "    for i in range(Nsamps):\n",
    "        pt = s[i]\n",
    "        bound = 999\n",
    "        for j in range(Nt):\n",
    "            if (np.linalg.norm(q[j].reshape((3, 1)) - pt) - r[j]) <= bound:\n",
    "                h = FindClosestPoint(pt, v[tri[j]])\n",
    "                dist = np.linalg.norm(h - pt)\n",
    "                if dist < bound:\n",
    "                    c_tmp = h\n",
    "                    bound = dist\n",
    "        c[i] = c_tmp\n",
    "    d_cs = np.linalg.norm(c - s, axis=1)\n",
    "\n",
    "    with open('../OUTPUT/pa4-' + test_char + '-Output.txt', 'w') as file:\n",
    "        file.write(str(Nsamps) + ', pa4-' + test_char + '-Output.txt\\n')\n",
    "        for i in range(Nsamps):\n",
    "            line = [\"{0:.2f}\".format(s[i][0][0]), \"{0:.2f}\".format(s[i][1][0]), \"{0:.2f}\".format(s[i][2][0]), \"{0:.2f}\".format(\n",
    "                c[i][0][0]), \"{0:.2f}\".format(c[i][1][0]), \"{0:.2f}\".format(c[i][2][0]), \"{0:.3f}\".format(d_cs[i][0])]\n",
    "            line_new = '{:>8}  {:>8}  {:>8}  {:>10}  {:>8}  {:>8}  {:>8}'.format(\n",
    "                line[0], line[1], line[2], line[3], line[4], line[5], line[6])\n",
    "            file.write(str(line_new) + '\\n')\n",
    "    print('pa4-' + test_char + '-Output.txt generated!')\n",
    "\n",
    "print(\"Evaulated all data!\")\n",
    "\n"
   ]
  }
 ],
 "metadata": {
  "kernelspec": {
   "display_name": "Python 3",
   "language": "python",
   "name": "python3"
  },
  "language_info": {
   "codemirror_mode": {
    "name": "ipython",
    "version": 3
   },
   "file_extension": ".py",
   "mimetype": "text/x-python",
   "name": "python",
   "nbconvert_exporter": "python",
   "pygments_lexer": "ipython3",
   "version": "3.6.7"
  }
 },
 "nbformat": 4,
 "nbformat_minor": 2
}
